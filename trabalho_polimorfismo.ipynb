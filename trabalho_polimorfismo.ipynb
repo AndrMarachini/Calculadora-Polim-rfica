{
  "nbformat": 4,
  "nbformat_minor": 0,
  "metadata": {
    "colab": {
      "provenance": [],
      "include_colab_link": true
    },
    "kernelspec": {
      "name": "python3",
      "display_name": "Python 3"
    },
    "language_info": {
      "name": "python"
    }
  },
  "cells": [
    {
      "cell_type": "markdown",
      "metadata": {
        "id": "view-in-github",
        "colab_type": "text"
      },
      "source": [
        "<a href=\"https://colab.research.google.com/github/AndrMarachini/Calculadora-Polim-rfica/blob/main/trabalho_polimorfismo.ipynb\" target=\"_parent\"><img src=\"https://colab.research.google.com/assets/colab-badge.svg\" alt=\"Open In Colab\"/></a>"
      ]
    },
    {
      "cell_type": "markdown",
      "source": [
        "1 - Calculadora Polimórfica\n"
      ],
      "metadata": {
        "id": "zApw3ofA7wh3"
      }
    },
    {
      "cell_type": "code",
      "source": [
        "class CalculadoraPolimorfica:\n",
        "    def calcular(self, operacao, *operandos):\n",
        "        if operacao == 'soma':\n",
        "            return sum(operandos)\n",
        "        elif operacao == 'subtracao':\n",
        "            resultado = operandos[0]\n",
        "            for i in range(1, len(operandos)):\n",
        "                resultado -= operandos[i]\n",
        "            return resultado\n",
        "        elif operacao == 'multiplicacao':\n",
        "            resultado = 1\n",
        "            for op in operandos:\n",
        "                resultado *= op\n",
        "            return resultado\n",
        "        elif operacao == 'divisao':\n",
        "            resultado = operandos[0]\n",
        "            for i in range(1, len(operandos)):\n",
        "                resultado /= operandos[i]\n",
        "            return resultado\n",
        "        else:\n",
        "            return \"Operação não suportada\"\n",
        "\n",
        "\n",
        "calc = CalculadoraPolimorfica()\n",
        "\n",
        "print(\"Soma:\", calc.calcular('soma', 5, 3, 2))\n",
        "print(\"Subtração:\", calc.calcular('subtracao', 10, 3, 2))\n",
        "print(\"Multiplicação:\", calc.calcular('multiplicacao', 2, 3, 4))\n",
        "print(\"Divisão:\", calc.calcular('divisao', 100, 5, 2))\n",
        "print(\"Operação inválida:\", calc.calcular('potencia', 2, 3))\n"
      ],
      "metadata": {
        "id": "7TPveRm75UxU"
      },
      "execution_count": null,
      "outputs": []
    },
    {
      "cell_type": "markdown",
      "source": [
        "2 - Loja Virtual"
      ],
      "metadata": {
        "id": "Mfipk3Dv5Vxt"
      }
    },
    {
      "cell_type": "code",
      "source": [
        "class Produto:\n",
        "    def __init__(self, nome, preco):\n",
        "        self.nome = nome\n",
        "        self.preco = preco\n",
        "\n",
        "    def calcular_preco(self):\n",
        "        return self.preco\n",
        "\n",
        "class Livro(Produto):\n",
        "    def __init__(self, nome, preco, autor):\n",
        "        super().__init__(nome, preco)\n",
        "        self.autor = autor\n",
        "\n",
        "    def calcular_preco(self):\n",
        "        # Desconto de 10% para livros\n",
        "        return self.preco * 0.9\n",
        "\n",
        "class Eletronico(Produto):\n",
        "    def __init__(self, nome, preco, marca):\n",
        "        super().__init__(nome, preco)\n",
        "        self.marca = marca\n",
        "\n",
        "    def calcular_preco(self):\n",
        "        # Promoção: se o preço for superior a $500, desconto de 20%\n",
        "        if self.preco > 500:\n",
        "            return self.preco * 0.8\n",
        "        else:\n",
        "            return self.preco\n",
        "\n",
        "class Roupa(Produto):\n",
        "    def __init__(self, nome, preco, tamanho):\n",
        "        super().__init__(nome, preco)\n",
        "        self.tamanho = tamanho\n",
        "\n",
        "    def calcular_preco(self):\n",
        "\n",
        "        if self.tamanho == 'XL':\n",
        "            return self.preco * 0.85\n",
        "        else:\n",
        "            return self.preco\n",
        "\n",
        "\n",
        "livro = Livro(\"Dom Casmurro\", 50, \"Machado de Assis\")\n",
        "eletronico = Eletronico(\"Smartphone\", 600, \"Samsung\")\n",
        "roupa = Roupa(\"Camisa Polo\", 30, \"XL\")\n",
        "\n",
        "print(\"Preço do livro:\", livro.calcular_preco())\n",
        "print(\"Preço do eletrônico:\", eletronico.calcular_preco())\n",
        "print(\"Preço da roupa:\", roupa.calcular_preco())\n"
      ],
      "metadata": {
        "id": "C53HXeDy5dIN"
      },
      "execution_count": null,
      "outputs": []
    },
    {
      "cell_type": "markdown",
      "source": [
        "3 - Sistema Bancário"
      ],
      "metadata": {
        "id": "zmTit78o5dzN"
      }
    },
    {
      "cell_type": "code",
      "source": [
        "class ContaBancaria:\n",
        "    def __init__(self, numero_conta, saldo):\n",
        "        self.numero_conta = numero_conta\n",
        "        self.saldo = saldo\n",
        "\n",
        "    def depositar(self, valor):\n",
        "        self.saldo += valor\n",
        "\n",
        "    def sacar(self, valor):\n",
        "        if self.saldo >= valor:\n",
        "            self.saldo -= valor\n",
        "            return True\n",
        "        else:\n",
        "            return False\n",
        "\n",
        "    def calcular_juros(self):\n",
        "        pass\n",
        "\n",
        "class ContaCorrente(ContaBancaria):\n",
        "    def __init__(self, numero_conta, saldo, taxa_manutencao):\n",
        "        super().__init__(numero_conta, saldo)\n",
        "        self.taxa_manutencao = taxa_manutencao\n",
        "\n",
        "    def calcular_juros(self):\n",
        "\n",
        "        self.saldo -= self.taxa_manutencao\n",
        "\n",
        "class ContaPoupanca(ContaBancaria):\n",
        "    def calcular_juros(self):\n",
        "\n",
        "        self.saldo *= 1.005\n",
        "\n",
        "class ContaInvestimento(ContaBancaria):\n",
        "    def calcular_juros(self):\n",
        "\n",
        "        self.saldo *= 1.015\n",
        "\n",
        "\n",
        "conta_corrente = ContaCorrente(\"12345\", 1000, 10)\n",
        "conta_poupanca = ContaPoupanca(\"54321\", 2000)\n",
        "conta_investimento = ContaInvestimento(\"67890\", 3000)\n",
        "\n",
        "conta_corrente.calcular_juros()\n",
        "conta_poupanca.calcular_juros()\n",
        "conta_investimento.calcular_juros()\n",
        "\n",
        "print(\"Saldo conta corrente:\", conta_corrente.saldo)\n",
        "print(\"Saldo conta poupança:\", conta_poupanca.saldo)\n",
        "print(\"Saldo conta investimento:\", conta_investimento.saldo)\n"
      ],
      "metadata": {
        "id": "XE15t28f5lKU"
      },
      "execution_count": null,
      "outputs": []
    },
    {
      "cell_type": "markdown",
      "source": [
        "4 - Sistema de Animais em um Zoológico"
      ],
      "metadata": {
        "id": "jnmSMJkk5mFs"
      }
    },
    {
      "cell_type": "code",
      "source": [
        "class Animal:\n",
        "    def __init__(self, nome, especie):\n",
        "        self.nome = nome\n",
        "        self.especie = especie\n",
        "\n",
        "    def alimentar(self):\n",
        "        pass\n",
        "\n",
        "    def reproduzir(self):\n",
        "        pass\n",
        "\n",
        "class Mamifero(Animal):\n",
        "    def alimentar(self):\n",
        "        return f\"{self.nome} está mamando.\"\n",
        "\n",
        "    def reproduzir(self):\n",
        "        return f\"{self.nome} está dando à luz.\"\n",
        "\n",
        "class Ave(Animal):\n",
        "    def alimentar(self):\n",
        "        return f\"{self.nome} está se alimentando de sementes.\"\n",
        "\n",
        "    def reproduzir(self):\n",
        "        return f\"{self.nome} está chocando ovos.\"\n",
        "\n",
        "class Reptil(Animal):\n",
        "    def alimentar(self):\n",
        "        return f\"{self.nome} está se alimentando de insetos.\"\n",
        "\n",
        "    def reproduzir(self):\n",
        "        return f\"{self.nome} está botando ovos.\"\n",
        "\n",
        "# Exemplo de uso:\n",
        "mamifero = Mamifero(\"Leão\", \"Felino\")\n",
        "ave = Ave(\"Papagaio\", \"Psittaciformes\")\n",
        "reptil = Reptil(\"Tartaruga\", \"Testudinidae\")\n",
        "\n",
        "print(mamifero.alimentar())\n",
        "print(mamifero.reproduzir())\n",
        "\n",
        "print(ave.alimentar())\n",
        "print(ave.reproduzir())\n",
        "\n",
        "print(reptil.alimentar())\n",
        "print(reptil.reproduzir())\n"
      ],
      "metadata": {
        "id": "wv_qboYh5nck"
      },
      "execution_count": null,
      "outputs": []
    },
    {
      "cell_type": "markdown",
      "source": [
        "5 - Agenda de Contatos"
      ],
      "metadata": {
        "id": "Ln09MKqP5u9l"
      }
    },
    {
      "cell_type": "code",
      "source": [
        "class Contato:\n",
        "    def __init__(self, nome, telefone):\n",
        "        self.nome = nome\n",
        "        self.telefone = telefone\n",
        "\n",
        "    def exibir_informacoes(self):\n",
        "        return f\"Nome: {self.nome}\\nTelefone: {self.telefone}\"\n",
        "\n",
        "class ContatoPessoal(Contato):\n",
        "    def __init__(self, nome, telefone, endereco):\n",
        "        super().__init__(nome, telefone)\n",
        "        self.endereco = endereco\n",
        "\n",
        "    def exibir_informacoes(self):\n",
        "        return super().exibir_informacoes() + f\"\\nEndereço: {self.endereco}\"\n",
        "\n",
        "class ContatoProfissional(Contato):\n",
        "    def __init__(self, nome, telefone, empresa):\n",
        "        super().__init__(nome, telefone)\n",
        "        self.empresa = empresa\n",
        "\n",
        "    def exibir_informacoes(self):\n",
        "        return super().exibir_informacoes() + f\"\\nEmpresa: {self.empresa}\"\n",
        "\n",
        "class ContatoMedico(Contato):\n",
        "    def __init__(self, nome, telefone, especialidade):\n",
        "        super().__init__(nome, telefone)\n",
        "        self.especialidade = especialidade\n",
        "\n",
        "    def exibir_informacoes(self):\n",
        "        return super().exibir_informacoes() + f\"\\nEspecialidade: {self.especialidade}\"\n",
        "\n",
        "# Exemplo de uso:\n",
        "contato_pessoal = ContatoPessoal(\"João\", \"123456789\", \"Rua A, 123\")\n",
        "contato_profissional = ContatoProfissional(\"Maria\", \"987654321\", \"Empresa X\")\n",
        "contato_medico = ContatoMedico(\"Dr. Silva\", \"555555555\", \"Cardiologista\")\n",
        "\n",
        "print(\"Contato Pessoal:\")\n",
        "print(contato_pessoal.exibir_informacoes())\n",
        "print(\"\\nContato Profissional:\")\n",
        "print(contato_profissional.exibir_informacoes())\n",
        "print(\"\\nContato Médico:\")\n",
        "print(contato_medico.exibir_informacoes())\n"
      ],
      "metadata": {
        "id": "Wi-xwbwg5wJ8"
      },
      "execution_count": null,
      "outputs": []
    },
    {
      "cell_type": "markdown",
      "source": [
        "6 - Gestão de Veículos"
      ],
      "metadata": {
        "id": "9S97_krX53BV"
      }
    },
    {
      "cell_type": "code",
      "source": [
        "class Veiculo:\n",
        "    def __init__(self, marca, modelo):\n",
        "        self.marca = marca\n",
        "        self.modelo = modelo\n",
        "\n",
        "    def calcular_consumo_combustivel(self, distancia):\n",
        "        pass\n",
        "\n",
        "    def calcular_custo_manutencao(self):\n",
        "        pass\n",
        "\n",
        "class Carro(Veiculo):\n",
        "    def calcular_consumo_combustivel(self, distancia):\n",
        "\n",
        "        return distancia / 12\n",
        "\n",
        "    def calcular_custo_manutencao(self):\n",
        "\n",
        "        return 500\n",
        "\n",
        "class Moto(Veiculo):\n",
        "    def calcular_consumo_combustivel(self, distancia):\n",
        "\n",
        "        return distancia / 20\n",
        "\n",
        "    def calcular_custo_manutencao(self):\n",
        "\n",
        "        return 300\n",
        "\n",
        "class Caminhao(Veiculo):\n",
        "    def calcular_consumo_combustivel(self, distancia):\n",
        "\n",
        "        return distancia / 5\n",
        "\n",
        "    def calcular_custo_manutencao(self):\n",
        "\n",
        "        return 1500\n",
        "\n",
        "\n",
        "carro = Carro(\"Toyota\", \"Corolla\")\n",
        "moto = Moto(\"Honda\", \"CB 500\")\n",
        "caminhao = Caminhao(\"Volvo\", \"FH\")\n",
        "\n",
        "print(\"Carro - Consumo de combustível (100 km):\", carro.calcular_consumo_combustivel(100))\n",
        "print(\"Carro - Custo de manutenção:\", carro.calcular_custo_manutencao())\n",
        "\n",
        "print(\"Moto - Consumo de combustível (100 km):\", moto.calcular_consumo_combustivel(100))\n",
        "print(\"Moto - Custo de manutenção:\", moto.calcular_custo_manutencao())\n",
        "\n",
        "print(\"Caminhão - Consumo de combustível (100 km):\", caminhao.calcular_consumo_combustivel(100))\n",
        "print(\"Caminhão - Custo de manutenção:\", caminhao.calcular_custo_manutencao())\n"
      ],
      "metadata": {
        "id": "xZxx8Xtv54M9"
      },
      "execution_count": null,
      "outputs": []
    },
    {
      "cell_type": "markdown",
      "source": [
        "7 - Sistema de Empréstimos"
      ],
      "metadata": {
        "id": "Ruqg4zem5-Ks"
      }
    },
    {
      "cell_type": "code",
      "source": [
        "class Emprestimo:\n",
        "    def __init__(self, valor, taxa_juros):\n",
        "        self.valor = valor\n",
        "        self.taxa_juros = taxa_juros\n",
        "\n",
        "    def calcular_juros(self):\n",
        "        pass\n",
        "\n",
        "    def calcular_prazo_pagamento(self):\n",
        "        pass\n",
        "\n",
        "class EmprestimoPessoal(Emprestimo):\n",
        "    def calcular_juros(self):\n",
        "\n",
        "        return self.valor * (self.taxa_juros / 100)\n",
        "\n",
        "    def calcular_prazo_pagamento(self):\n",
        "\n",
        "        return 12\n",
        "\n",
        "class EmprestimoEmpresarial(Emprestimo):\n",
        "    def calcular_juros(self):\n",
        "\n",
        "        return self.valor * (self.taxa_juros / 100)\n",
        "\n",
        "    def calcular_prazo_pagamento(self):\n",
        "\n",
        "        return 24\n",
        "\n",
        "class EmprestimoEstudantil(Emprestimo):\n",
        "    def calcular_juros(self):\n",
        "\n",
        "        return self.valor * (self.taxa_juros / 100)\n",
        "\n",
        "    def calcular_prazo_pagamento(self):\n",
        "\n",
        "        return 36\n",
        "\n",
        "\n",
        "emprestimo_pessoal = EmprestimoPessoal(10000, 10)\n",
        "emprestimo_empresarial = EmprestimoEmpresarial(50000, 15)\n",
        "emprestimo_estudantil = EmprestimoEstudantil(20000, 5)\n",
        "\n",
        "print(\"Empréstimo Pessoal - Juros:\", emprestimo_pessoal.calcular_juros())\n",
        "print(\"Empréstimo Pessoal - Prazo de pagamento (meses):\", emprestimo_pessoal.calcular_prazo_pagamento())\n",
        "\n",
        "print(\"Empréstimo Empresarial - Juros:\", emprestimo_empresarial.calcular_juros())\n",
        "print(\"Empréstimo Empresarial - Prazo de pagamento (meses):\", emprestimo_empresarial.calcular_prazo_pagamento())\n",
        "\n",
        "print(\"Empréstimo Estudantil - Juros:\", emprestimo_estudantil.calcular_juros())\n",
        "print(\"Empréstimo Estudantil - Prazo de pagamento (meses):\", emprestimo_estudantil.calcular_prazo_pagamento())\n"
      ],
      "metadata": {
        "id": "I8KCf7lw5_FN"
      },
      "execution_count": null,
      "outputs": []
    },
    {
      "cell_type": "markdown",
      "source": [
        "8 - Biblioteca de Veículos"
      ],
      "metadata": {
        "id": "nepJvdfq6FyF"
      }
    },
    {
      "cell_type": "code",
      "source": [
        "class Veiculo:\n",
        "    def __init__(self, marca, modelo):\n",
        "        self.marca = marca\n",
        "        self.modelo = modelo\n",
        "\n",
        "    def calcular_custo_manutencao(self):\n",
        "        pass\n",
        "\n",
        "    def calcular_consumo_combustivel(self, distancia):\n",
        "        pass\n",
        "\n",
        "class Carro(Veiculo):\n",
        "    def __init__(self, marca, modelo, consumo_medio):\n",
        "        super().__init__(marca, modelo)\n",
        "        self.consumo_medio = consumo_medio\n",
        "\n",
        "    def calcular_custo_manutencao(self):\n",
        "\n",
        "        return 500\n",
        "\n",
        "    def calcular_consumo_combustivel(self, distancia):\n",
        "\n",
        "        return distancia / self.consumo_medio\n",
        "\n",
        "class Bicicleta(Veiculo):\n",
        "    def __init__(self, marca, modelo):\n",
        "        super().__init__(marca, modelo)\n",
        "\n",
        "    def calcular_custo_manutencao(self):\n",
        "\n",
        "        return 100\n",
        "\n",
        "    def calcular_consumo_combustivel(self, distancia):\n",
        "\n",
        "        return 0\n",
        "\n",
        "class Onibus(Veiculo):\n",
        "    def __init__(self, marca, modelo, capacidade, consumo_medio):\n",
        "        super().__init__(marca, modelo)\n",
        "        self.capacidade = capacidade\n",
        "        self.consumo_medio = consumo_medio\n",
        "\n",
        "    def calcular_custo_manutencao(self):\n",
        "\n",
        "        return 2000\n",
        "\n",
        "    def calcular_consumo_combustivel(self, distancia):\n",
        "\n",
        "        return distancia / self.consumo_medio\n",
        "\n",
        "\n",
        "carro = Carro(\"Toyota\", \"Corolla\", 15)\n",
        "bicicleta = Bicicleta(\"Caloi\", \"XRT\")\n",
        "onibus = Onibus(\"Mercedes-Benz\", \"O500\", 40, 4)\n",
        "\n",
        "print(\"Carro - Custo de manutenção:\", carro.calcular_custo_manutencao())\n",
        "print(\"Carro - Consumo de combustível (100 km):\", carro.calcular_consumo_combustivel(100))\n",
        "\n",
        "print(\"Bicicleta - Custo de manutenção:\", bicicleta.calcular_custo_manutencao())\n",
        "print(\"Bicicleta - Consumo de combustível (100 km):\", bicicleta.calcular_consumo_combustivel(100)\n",
        "\n",
        "print(\"Ônibus - Custo de manutenção:\", onibus.calcular_custo_manutencao())\n",
        "print(\"Ônibus - Consumo de combustível (100 km):\", onibus.calcular_consumo_combustivel(100))\n"
      ],
      "metadata": {
        "id": "N7LUIj786GgG"
      },
      "execution_count": null,
      "outputs": []
    },
    {
      "cell_type": "markdown",
      "source": [
        "9 - Sistema de Pagamentos"
      ],
      "metadata": {
        "id": "ega9GR0d6OVF"
      }
    },
    {
      "cell_type": "code",
      "source": [
        " class MetodoPagamento:\n",
        "    def processar_pagamento(self, valor):\n",
        "        pass\n",
        "\n",
        "class CartaoCredito(MetodoPagamento):\n",
        "    def processar_pagamento(self, valor):\n",
        "\n",
        "        return f\"Pagamento de R${valor:.2f} processado com cartão de crédito.\"\n",
        "\n",
        "class BoletoBancario(MetodoPagamento):\n",
        "    def processar_pagamento(self, valor):\n",
        "\n",
        "        return f\"Boleto bancário gerado para o pagamento de R${valor:.2f}.\"\n",
        "\n",
        "class TransferenciaBancaria(MetodoPagamento):\n",
        "    def processar_pagamento(self, valor):\n",
        "\n",
        "        return f\"Transferência bancária realizada para o pagamento de R${valor:.2f}.\"\n",
        "\n",
        "\n",
        "cartao = CartaoCredito()\n",
        "boleto = BoletoBancario()\n",
        "transferencia = TransferenciaBancaria()\n",
        "\n",
        "print(cartao.processar_pagamento(100))\n",
        "print(boleto.processar_pagamento(150))\n",
        "print(transferencia.processar_pagamento(200))\n"
      ],
      "metadata": {
        "id": "Z9kZy9dD6O6u"
      },
      "execution_count": null,
      "outputs": []
    },
    {
      "cell_type": "markdown",
      "source": [
        "10 - Sistema de Reservas de Hotel"
      ],
      "metadata": {
        "id": "MIMyK2Lq6Udl"
      }
    },
    {
      "cell_type": "code",
      "source": [
        "class QuartoHotel:\n",
        "    def __init__(self, numero, capacidade):\n",
        "        self.numero = numero\n",
        "        self.capacidade = capacidade\n",
        "\n",
        "    def calcular_preco_estadia(self, dias):\n",
        "        pass\n",
        "\n",
        "    def verificar_disponibilidade(self, data_inicio, data_fim):\n",
        "        pass\n",
        "\n",
        "class QuartoSimples(QuartoHotel):\n",
        "    def calcular_preco_estadia(self, dias):\n",
        "\n",
        "        return dias * 100\n",
        "\n",
        "    def verificar_disponibilidade(self, data_inicio, data_fim):\n",
        "\n",
        "        return True\n",
        "\n",
        "class QuartoDuplo(QuartoHotel):\n",
        "    def calcular_preco_estadia(self, dias):\n",
        "\n",
        "        return dias * 150\n",
        "\n",
        "    def verificar_disponibilidade(self, data_inicio, data_fim):\n",
        "\n",
        "        return True\n",
        "\n",
        "class Suite(QuartoHotel):\n",
        "    def calcular_preco_estadia(self, dias):\n",
        "\n",
        "        return dias * 300\n",
        "\n",
        "    def verificar_disponibilidade(self, data_inicio, data_fim):\n",
        "\n",
        "        return True\n",
        "\n",
        "\n",
        "quarto_simples = QuartoSimples(101, 1)\n",
        "quarto_duplo = QuartoDuplo(201, 2)\n",
        "suite = Suite(301, 4)\n",
        "\n",
        "print(\"Preço da estadia em um quarto simples por 3 dias:\", quarto_simples.calcular_preco_estadia(3))\n",
        "print(\"Disponibilidade de um quarto duplo para o período de 2024-04-10 a 2024-04-15:\", quarto_duplo.verificar_disponibilidade(\"2024-04-10\", \"2024-04-15\"))\n",
        "print(\"Preço da estadia em uma suíte por 5 dias:\", suite.calcular_preco_estadia(5))  #\n"
      ],
      "metadata": {
        "id": "Q1LYz6Gf6VN8"
      },
      "execution_count": null,
      "outputs": []
    },
    {
      "cell_type": "markdown",
      "source": [
        "11 - Aplicativo de Entrega de Alimentos"
      ],
      "metadata": {
        "id": "bL0lt95K6cid"
      }
    },
    {
      "cell_type": "markdown",
      "source": [
        "12 - Sistema de Vendas de Ingressos"
      ],
      "metadata": {
        "id": "0uQNwV7D6jJF"
      }
    },
    {
      "cell_type": "code",
      "source": [
        "class Ingresso:\n",
        "    def __init__(self, nome_evento):\n",
        "        self.nome_evento = nome_evento\n",
        "\n",
        "    def calcular_preco(self):\n",
        "        pass\n",
        "\n",
        "    def verificar_disponibilidade(self):\n",
        "        pass\n",
        "\n",
        "class IngressoVIP(Ingresso):\n",
        "    def calcular_preco(self):\n",
        "\n",
        "        return 100\n",
        "\n",
        "    def verificar_disponibilidade(self):\n",
        "\n",
        "        return True\n",
        "\n",
        "class IngressoRegular(Ingresso):\n",
        "    def calcular_preco(self):\n",
        "\n",
        "        return 50\n",
        "\n",
        "    def verificar_disponibilidade(self):\n",
        "\n",
        "        return True\n",
        "\n",
        "class IngressoEstudante(Ingresso):\n",
        "    def calcular_preco(self):\n",
        "\n",
        "        return 30\n",
        "\n",
        "    def verificar_disponibilidade(self):\n",
        "\n",
        "        return True\n",
        "\n",
        "\n",
        "ingresso_vip = IngressoVIP(\"Show de Rock\")\n",
        "ingresso_regular = IngressoRegular(\"Festival de Cinema\")\n",
        "ingresso_estudante = IngressoEstudante(\"Peça de Teatro\")\n",
        "\n",
        "print(\"Preço do ingresso VIP:\", ingresso_vip.calcular_preco())\n",
        "print(\"Disponibilidade de ingresso VIP:\", ingresso_vip.verificar_disponibilidade())\n",
        "\n",
        "print(\"Preço do ingresso regular:\", ingresso_regular.calcular_preco())\n",
        "print(\"Disponibilidade de ingresso regular:\", ingresso_regular.verificar_disponibilidade())\n",
        "\n",
        "print(\"Preço do ingresso para estudante:\", ingresso_estudante.calcular_preco())\n",
        "print(\"Disponibilidade de ingresso para estudante:\", ingresso_estudante.verificar_disponibilidade())\n"
      ],
      "metadata": {
        "id": "GsToXRKf6rf1"
      },
      "execution_count": null,
      "outputs": []
    },
    {
      "cell_type": "markdown",
      "source": [
        "13 - Gestão de Equipamentos Esportivos"
      ],
      "metadata": {
        "id": "bn4ruzil6u4s"
      }
    },
    {
      "cell_type": "code",
      "source": [
        "class EquipamentoEsportivo:\n",
        "    def __init__(self, nome):\n",
        "        self.nome = nome\n",
        "\n",
        "    def calcular_preco_aluguel(self):\n",
        "        pass\n",
        "\n",
        "    def verificar_disponibilidade(self):\n",
        "        pass\n",
        "class Bola(EquipamentoEsportivo):\n",
        "    def calcular_preco_aluguel(self):\n",
        "\n",
        "        return 10\n",
        "\n",
        "    def verificar_disponibilidade(self):\n",
        "\n",
        "        return True\n",
        "\n",
        "class Raquete(EquipamentoEsportivo):\n",
        "    def calcular_preco_aluguel(self):\n",
        "\n",
        "        return 15\n",
        "\n",
        "    def verificar_disponibilidade(self):\n",
        "\n",
        "        return True\n",
        "\n",
        "class Luvas(EquipamentoEsportivo):\n",
        "    def calcular_preco_aluguel(self):\n",
        "\n",
        "        return 20\n",
        "\n",
        "    def verificar_disponibilidade(self):\n",
        "\n",
        "        return True\n",
        "\n",
        "\n",
        "bola = Bola(\"Bola de Futebol\")\n",
        "raquete = Raquete(\"Raquete de Tênis\")\n",
        "luvas = Luvas(\"Par de Luvas de Boxe\")\n",
        "\n",
        "print(\"Preço de aluguel da bola:\", bola.calcular_preco_aluguel())\n",
        "print(\"Disponibilidade de bolas:\", bola.verificar_disponibilidade())\n",
        "print(\"Preço de aluguel da raquete:\", raquete.calcular_preco_aluguel())\n",
        "print(\"Disponibilidade de raquetes:\", raquete.verificar_disponibilidade())\n",
        "\n",
        "print(\"Preço de aluguel das luvas:\", luvas.calcular_preco_aluguel())\n",
        "print(\"Disponibilidade de luvas:\", luvas.verificar_disponibilidade())\n"
      ],
      "metadata": {
        "id": "5k9h1gUG6v_c"
      },
      "execution_count": null,
      "outputs": []
    },
    {
      "cell_type": "markdown",
      "source": [
        "14 - Sistema de Reservas de Passagens Aéreas"
      ],
      "metadata": {
        "id": "2sXV-9e96zSE"
      }
    },
    {
      "cell_type": "code",
      "source": [
        "class Assento:\n",
        "    def __init__(self, classe):\n",
        "        self.classe = classe\n",
        "\n",
        "    def calcular_preco(self):\n",
        "        pass\n",
        "\n",
        "    def verificar_disponibilidade(self):\n",
        "        pass\n",
        "\n",
        "class AssentoEconomico(Assento):\n",
        "    def calcular_preco(self):\n",
        "\n",
        "        return 200\n",
        "\n",
        "    def verificar_disponibilidade(self):\n",
        "\n",
        "\n",
        "        return True\n",
        "\n",
        "class AssentoExecutivo(Assento):\n",
        "    def calcular_preco(self):\n",
        "\n",
        "        return 400\n",
        "\n",
        "    def verificar_disponibilidade(self):\n",
        "\n",
        "        return True\n",
        "\n",
        "class AssentoPrimeiraClasse(Assento):\n",
        "    def calcular_preco(self):\n",
        "\n",
        "        return 800\n",
        "\n",
        "    def verificar_disponibilidade(self):\n",
        "\n",
        "        return True\n",
        "\n",
        "\n",
        "assento_economico = AssentoEconomico(\"Econômico\")\n",
        "assento_executivo = AssentoExecutivo(\"Executivo\")\n",
        "assento_primeira_classe = AssentoPrimeiraClasse(\"Primeira Classe\")\n",
        "\n",
        "print(\"Preço do assento econômico:\", assento_economico.calcular_preco())\n",
        "print(\"Disponibilidade de assentos econômicos:\", assento_economico.verificar_disponibilidade())\n",
        "\n",
        "print(\"Preço do assento executivo:\", assento_executivo.calcular_preco())\n",
        "print(\"Disponibilidade de assentos executivos:\", assento_executivo.verificar_disponibilidade())\n",
        "\n",
        "print(\"Preço do assento de primeira classe:\", assento_primeira_classe.calcular_preco())\n",
        "print(\"Disponibilidade de assentos de primeira classe:\", assento_primeira_classe.verificar_disponibilidade())\n"
      ],
      "metadata": {
        "id": "n6pKrq4U624d"
      },
      "execution_count": null,
      "outputs": []
    },
    {
      "cell_type": "markdown",
      "source": [
        "15 - Aplicativo de Streaming de Música"
      ],
      "metadata": {
        "id": "9kQVWhtU63Hk"
      }
    },
    {
      "cell_type": "code",
      "source": [
        "class Assinatura:\n",
        "    def __init__(self, tipo):\n",
        "        self.tipo = tipo\n",
        "\n",
        "    def acessar_musica(self, musica):\n",
        "        pass\n",
        "\n",
        "    def criar_playlist(self, nome_playlist):\n",
        "        pass\n",
        "\n",
        "class AssinaturaBasica(Assinatura):\n",
        "    def acessar_musica(self, musica):\n",
        "\n",
        "        return f\"Acessando música '{musica}' na assinatura básica.\"\n",
        "\n",
        "    def criar_playlist(self, nome_playlist):\n",
        "\n",
        "        return f\"Criando playlist '{nome_playlist}' na assinatura básica.\"\n",
        "\n",
        "class AssinaturaPremium(Assinatura):\n",
        "    def acessar_musica(self, musica):\n",
        "\n",
        "        return f\"Acessando música '{musica}' na assinatura premium.\"\n",
        "\n",
        "    def criar_playlist(self, nome_playlist):\n",
        "\n",
        "        return f\"Criando playlist '{nome_playlist}' na assinatura premium.\"\n",
        "\n",
        "class AssinaturaFamiliar(Assinatura):\n",
        "    def acessar_musica(self, musica):\n",
        "\n",
        "        return f\"Acessando música '{musica}' na assinatura familiar.\"\n",
        "\n",
        "    def criar_playlist(self, nome_playlist):\n",
        "\n",
        "        return f\"Criando playlist '{nome_playlist}' na assinatura familiar.\"\n",
        "\n",
        "\n",
        "assinatura_basica = AssinaturaBasica(\"Básica\")\n",
        "assinatura_premium = AssinaturaPremium(\"Premium\")\n",
        "assinatura_familiar = AssinaturaFamiliar(\"Familiar\")\n",
        "\n",
        "musica = \"Bohemian Rhapsody\"\n",
        "playlist = \"Rock Classics\"\n",
        "\n",
        "print(assinatura_basica.acessar_musica(musica)) .\n",
        "print(assinatura_basica.criar_playlist(playlist))\n",
        "\n",
        "print(assinatura_premium.acessar_musica(musica))\n",
        "print(assinatura_premium.criar_playlist(playlist))\n",
        "\n",
        "print(assinatura_familiar.acessar_musica(musica))\n",
        "print(assinatura_familiar.criar_playlist(playlist))\n"
      ],
      "metadata": {
        "id": "S2dLIGtK63rk"
      },
      "execution_count": null,
      "outputs": []
    }
  ]
}